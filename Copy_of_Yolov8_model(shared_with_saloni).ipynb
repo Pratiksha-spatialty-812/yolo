{
  "nbformat": 4,
  "nbformat_minor": 0,
  "metadata": {
    "colab": {
      "provenance": [],
      "gpuType": "T4"
    },
    "kernelspec": {
      "name": "python3",
      "display_name": "Python 3"
    },
    "language_info": {
      "name": "python"
    },
    "accelerator": "GPU"
  },
  "cells": [
    {
      "cell_type": "markdown",
      "source": [
        "#Install yolov8"
      ],
      "metadata": {
        "id": "4IgIoPDTvjiM"
      }
    },
    {
      "cell_type": "code",
      "source": [
        "# Pip install method (recommended)\n",
        "\n",
        "!pip install ultralytics==8.0.196\n",
        "\n",
        "from IPython import display\n",
        "display.clear_output()\n",
        "\n",
        "import ultralytics\n",
        "ultralytics.checks()"
      ],
      "metadata": {
        "id": "0XFarYchvgLt",
        "colab": {
          "base_uri": "https://localhost:8080/"
        },
        "outputId": "5dd76a8f-8fc5-4a62-e498-4768d235325f"
      },
      "execution_count": null,
      "outputs": [
        {
          "output_type": "stream",
          "name": "stderr",
          "text": [
            "Ultralytics YOLOv8.0.196 🚀 Python-3.10.12 torch-2.3.0+cu121 CPU (Intel Xeon 2.20GHz)\n",
            "Setup complete ✅ (2 CPUs, 12.7 GB RAM, 30.2/107.7 GB disk)\n"
          ]
        }
      ]
    },
    {
      "cell_type": "code",
      "source": [
        "from ultralytics import YOLO\n",
        "\n",
        "from IPython.display import display, Image"
      ],
      "metadata": {
        "id": "BZRYo7gtvgN7"
      },
      "execution_count": null,
      "outputs": []
    },
    {
      "cell_type": "markdown",
      "source": [
        "#Install Roboflow Supervision"
      ],
      "metadata": {
        "id": "3-8xlh_wwSEt"
      }
    },
    {
      "cell_type": "code",
      "source": [
        "!pip install supervision\n",
        "\n",
        "from IPython import display\n",
        "display.clear_output()\n",
        "\n",
        "import supervision as sv\n",
        "print(\"supervision.__version__:\", sv.__version__)"
      ],
      "metadata": {
        "id": "MXML0kP6vgQK",
        "colab": {
          "base_uri": "https://localhost:8080/"
        },
        "outputId": "f15375b6-0614-4675-aea9-5a1bed694abb"
      },
      "execution_count": null,
      "outputs": [
        {
          "output_type": "stream",
          "name": "stdout",
          "text": [
            "supervision.__version__: 0.21.0\n"
          ]
        }
      ]
    },
    {
      "cell_type": "markdown",
      "source": [
        "#Train the model"
      ],
      "metadata": {
        "id": "wks6DSic05Eq"
      }
    },
    {
      "cell_type": "code",
      "source": [
        "!mkdir {HOME}/datasets\n",
        "%cd {HOME}/datasets\n",
        "!pip install roboflow --quiet\n",
        "\n",
        "\n",
        "\n",
        "from roboflow import Roboflow\n",
        "rf = Roboflow(api_key=\"gLVyiwaeuIMFDhO5FqST\")\n",
        "project = rf.workspace(\"pratiksha-mynyh\").project(\"defect-detection-n0enf\")\n",
        "version = project.version(1)\n",
        "dataset = version.download(\"yolov8\")\n",
        "\n"
      ],
      "metadata": {
        "id": "zd1qF4ig033W"
      },
      "execution_count": null,
      "outputs": []
    },
    {
      "cell_type": "code",
      "source": [
        "import os\n",
        "\n",
        "# List the contents of the dataset directory\n",
        "dataset_dir = dataset.location\n",
        "os.listdir(dataset_dir)\n"
      ],
      "metadata": {
        "id": "ER2Z3M8f035m"
      },
      "execution_count": null,
      "outputs": []
    },
    {
      "cell_type": "code",
      "source": [
        "%cd {HOME}\n",
        "\n",
        "!yolo task=detect mode=train model=yolov8s.pt data={dataset.location}/data.yaml epochs=300 imgsz=640 plots=True"
      ],
      "metadata": {
        "id": "828ehpcJ037o"
      },
      "execution_count": null,
      "outputs": []
    },
    {
      "cell_type": "code",
      "source": [
        "!zip -r weights.zip /content/runs/detect/train/weights"
      ],
      "metadata": {
        "id": "Yg9rtNsa03_J"
      },
      "execution_count": null,
      "outputs": []
    }
  ]
}